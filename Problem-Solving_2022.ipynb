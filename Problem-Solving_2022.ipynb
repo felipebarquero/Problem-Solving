{
 "cells": [
  {
   "cell_type": "markdown",
   "source": [
    "# Problem Solving 2022\n",
    "\n",
    "## Week  35\n",
    "*Schweitzer Problems*"
   ],
   "metadata": {
    "collapsed": false,
    "pycharm": {
     "name": "#%% md\n"
    }
   }
  },
  {
   "cell_type": "markdown",
   "source": [
    "### 1\n",
    "<font size=\"5\"> We say that two sequences $x, y : \\mathbb{N} → \\mathbb{N}$ are completely different if $x(n) \\neq y(n)$ holds for all $n ∈ N$.\n",
    "Let F be a function assigning a natural number to every sequence of natural numbers such that $F (x)  \\neq F (y)$ for any pair of completely different sequences x, y, and for constant sequences we have $F ((k, k, . . .)) = k$.\n",
    "Prove that there exists $n ∈ N$ such that $F (x) = x(n)$ for all sequences x.</font>"
   ],
   "metadata": {
    "collapsed": false,
    "pycharm": {
     "name": "#%% md\n"
    }
   }
  },
  {
   "cell_type": "markdown",
   "source": [
    "### 2\n",
    " <font size=\"5\"> For $k$  and $n$ two non-negative natural numbers whose binary form are </font> \\begin{align}\n",
    "k =\n",
    "\\Sigma_{i=0}^{\\infty} k_{i} 2^{i}   \\text{ and }  n = \\Sigma_{i=0}^{\\infty} n_{i} 2^{i} .\n",
    "\\end{align}\n",
    " <font size=\"5\"> we define the operation\n",
    "\\begin{align}\n",
    "n \\oplus k  =\n",
    "\\Sigma_{i=0}^{\\infty} \\vert n_{i} - k_{i} \\vert 2^{i}  .\n",
    "\\end{align}\n",
    " <font size=\"5\"> Let $(c_{k})_{k∈N}$ be a sequence of complex numbers with the condition that  $\\vert c_{k} \\vert \\leq  1$  for every $k$. Prove that    there exists positive constants $C , \\delta > 0$ such that:\n",
    "\\begin{align} \\int _{[−π,π]×[−π,π]} \\sup\n",
    "_{n<N, n∈N }\\dfrac{1}{N} \\vert \\Sigma_{k=0}^{N-1} c_{k}e^{i(kx+(k⊕n)y}) \\vert≤ C · N −δ \\end{align} </font>"
   ],
   "metadata": {
    "collapsed": false,
    "pycharm": {
     "name": "#%% md\n"
    }
   }
  },
  {
   "cell_type": "markdown",
   "source": [
    "### 3\n",
    "  <font size=\"5\"> Is there a piecewise linear real function $f : \\mathbb{R} → \\mathbb{R}$,\n",
    " such that for exery double-sided sequence of real numbers $a_{n} \\in [0,1]$ , $n\\in \\mathbb{Z}$, there exists $x \\in \\mathbb{R}$   for which\n",
    " \\begin{align} \\lim  \\sup _{K →∞} \\frac{#\\{k ≤ K : k ∈ N, f^{(k)}(x) ∈ [n, n + 1)\\}} {K} = a_{n}\n",
    " \\end{align}\n",
    "\n",
    "<font size=\"5\"> Here $f^{(k)}$ is the k-th iteration of $f$."
   ],
   "metadata": {
    "collapsed": false,
    "pycharm": {
     "name": "#%% md\n"
    }
   }
  },
  {
   "cell_type": "markdown",
   "source": [
    "### 4\n",
    "<font size=\"5\"> Let $A, B, C$ be matrices with complex elements such that $[A, B] =C$, $[B, C] = A$ and $[C, A] = B$, where $[X, Y ]$ denotes the $XY − Y X$ commutator of the matrices.\n",
    "Prove that $e^{4πA}$ is the identity matrix."
   ],
   "metadata": {
    "collapsed": false,
    "pycharm": {
     "name": "#%% md\n"
    }
   }
  },
  {
   "cell_type": "code",
   "execution_count": null,
   "outputs": [],
   "source": [],
   "metadata": {
    "collapsed": false,
    "pycharm": {
     "name": "#%%\n"
    }
   }
  }
 ],
 "metadata": {
  "kernelspec": {
   "display_name": "Python 3",
   "language": "python",
   "name": "python3"
  },
  "language_info": {
   "codemirror_mode": {
    "name": "ipython",
    "version": 2
   },
   "file_extension": ".py",
   "mimetype": "text/x-python",
   "name": "python",
   "nbconvert_exporter": "python",
   "pygments_lexer": "ipython2",
   "version": "2.7.6"
  }
 },
 "nbformat": 4,
 "nbformat_minor": 0
}